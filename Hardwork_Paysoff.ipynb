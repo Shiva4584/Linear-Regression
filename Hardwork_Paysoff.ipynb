{
 "cells": [
  {
   "cell_type": "markdown",
   "metadata": {},
   "source": [
    "# Marks prediction Using Linear Regression and Gradeint descent\n",
    "Model Predects the marks of the student based on How many hours spent in studying.\n",
    "\n",
    "Linear Regression Implemented using Gradeint descent algorithm."
   ]
  },
  {
   "cell_type": "code",
   "execution_count": 43,
   "metadata": {
    "id": "U0ikPOfy9OR9"
   },
   "outputs": [],
   "source": [
    "import pandas as pd\n",
    "import numpy as np\n",
    "import matplotlib.pyplot as plt\n",
    "import seaborn as sns"
   ]
  },
  {
   "cell_type": "code",
   "execution_count": 2,
   "metadata": {
    "id": "Gd1Jg7ye9OSG"
   },
   "outputs": [],
   "source": [
    "X=pd.read_excel(\"D:\\Machine learning\\Hardwork pays off\\Data\\X_train.XLSX\")\n",
    "Y=pd.read_excel(\"D:\\Machine learning\\Hardwork pays off\\Data\\Y_train.XLSX\")"
   ]
  },
  {
   "cell_type": "code",
   "execution_count": 34,
   "metadata": {
    "id": "tyfBrMvL9OSI",
    "outputId": "9b380818-95ad-4b55-fb35-4f71fe8d3c29"
   },
   "outputs": [
    {
     "data": {
      "image/png": "[encoded data removed]",
      "text/plain": [
       "<Figure size 576x396 with 1 Axes>"
      ]
     },
     "metadata": {},
     "output_type": "display_data"
    }
   ],
   "source": [
    "#X=X.values\n",
    "#Y=Y.values\n",
    "u=X.mean()\n",
    "std=X.std()\n",
    "X=(X-u)/std\n",
    "plt.scatter(X,Y)\n",
    "plt.title(\"Performance vs Hardwork\")\n",
    "plt.xlabel(\"Performance(Marks)\")\n",
    "plt.ylabel(\"Hardwork(Time spent(HRS))\")\n",
    "plt.show()"
   ]
  },
  {
   "cell_type": "code",
   "execution_count": 24,
   "metadata": {
    "id": "zPJtMk5v9OSM"
   },
   "outputs": [],
   "source": [
    "def hypothesis(x,theta):\n",
    "    y_=theta[0]+theta[1]*x\n",
    "    return y_"
   ]
  },
  {
   "cell_type": "code",
   "execution_count": 49,
   "metadata": {
    "id": "w9nelWB19OSO"
   },
   "outputs": [],
   "source": [
    "def gradient(X,Y,theta):\n",
    "    m=X.shape[0]\n",
    "    grad=np.zeros((2,))\n",
    "    for i in range(m):\n",
    "        x=X[i]\n",
    "        y_=hypothesis(x,theta)\n",
    "        y=Y[i]\n",
    "        grad[0]+=2*(y_-y)\n",
    "        grad[1]+=2*(y_-y)*x\n",
    "    return grad/m    "
   ]
  },
  {
   "cell_type": "code",
   "execution_count": 50,
   "metadata": {
    "id": "aVTuGV9c9OSQ"
   },
   "outputs": [],
   "source": [
    "def error(X,Y,theta):\n",
    "    m=X.shape[0]\n",
    "    err=0.0\n",
    "    for i in range(m):\n",
    "        y_=hypothesis(X[i],theta)\n",
    "        err+=(y_-Y[i])**2\n",
    "    return err/m    "
   ]
  },
  {
   "cell_type": "code",
   "execution_count": 51,
   "metadata": {
    "id": "jQnGR9av9OSS"
   },
   "outputs": [],
   "source": [
    "def GradientDescent(X,Y,max_steps=100,lr=0.1):\n",
    "    theta=np.zeros((2,))\n",
    "    error_list=[]\n",
    "    for i in range(max_steps):\n",
    "        grad=gradient(X,Y,theta)\n",
    "        e=error(X,Y,theta)\n",
    "        error_list.append(e)\n",
    "        theta[0]=theta[0]-lr*grad[0]\n",
    "        theta[1]=theta[1]-lr*grad[1]\n",
    "    return theta,error_list  "
   ]
  },
  {
   "cell_type": "code",
   "execution_count": 52,
   "metadata": {
    "id": "2Q9OiU729OSV"
   },
   "outputs": [],
   "source": [
    "theta,error_list=GradientDescent(X,Y)"
   ]
  },
  {
   "cell_type": "code",
   "execution_count": 53,
   "metadata": {
    "id": "7nh5UBVm9OSY",
    "outputId": "590454c7-a187-4287-92c0-767f96bb4f4f"
   },
   "outputs": [
    {
     "data": {
      "text/plain": [
       "array([ 0.68861913, 79.91645099])"
      ]
     },
     "execution_count": 53,
     "metadata": {},
     "output_type": "execute_result"
    }
   ],
   "source": [
    "theta"
   ]
  },
  {
   "cell_type": "code",
   "execution_count": 54,
   "metadata": {
    "id": "-gVSokgV9OSb",
    "outputId": "2fca840d-d2ae-4111-a6bd-667649d7a762"
   },
   "outputs": [
    {
     "data": {
      "text/plain": [
       "[array([6578.02599318]),\n",
       " array([4278.66519137]),\n",
       " array([2807.07427822]),\n",
       " array([1865.2560938]),\n",
       " array([1262.49245577]),\n",
       " array([876.72372743]),\n",
       " array([629.83174129]),\n",
       " array([471.82087016]),\n",
       " array([370.69391264]),\n",
       " array([305.97265983]),\n",
       " array([264.55105803]),\n",
       " array([238.04123288]),\n",
       " array([221.07494478]),\n",
       " array([210.2165204]),\n",
       " array([203.26712879]),\n",
       " array([198.81951816]),\n",
       " array([195.97304736]),\n",
       " array([194.15130605]),\n",
       " array([192.98539161]),\n",
       " array([192.23920637]),\n",
       " array([191.76164781]),\n",
       " array([191.45601034]),\n",
       " array([191.26040235]),\n",
       " array([191.13521324]),\n",
       " array([191.05509221]),\n",
       " array([191.00381475]),\n",
       " array([190.97099718]),\n",
       " array([190.94999393]),\n",
       " array([190.93655185]),\n",
       " array([190.92794892]),\n",
       " array([190.92244305]),\n",
       " array([190.91891929]),\n",
       " array([190.91666408]),\n",
       " array([190.91522075]),\n",
       " array([190.91429702]),\n",
       " array([190.91370583]),\n",
       " array([190.91332747]),\n",
       " array([190.91308532]),\n",
       " array([190.91293034]),\n",
       " array([190.91283116]),\n",
       " array([190.91276768]),\n",
       " array([190.91272705]),\n",
       " array([190.91270105]),\n",
       " array([190.91268441]),\n",
       " array([190.91267376]),\n",
       " array([190.91266694]),\n",
       " array([190.91266258]),\n",
       " array([190.91265979]),\n",
       " array([190.912658]),\n",
       " array([190.91265686]),\n",
       " array([190.91265613]),\n",
       " array([190.91265566]),\n",
       " array([190.91265536]),\n",
       " array([190.91265517]),\n",
       " array([190.91265504]),\n",
       " array([190.91265497]),\n",
       " array([190.91265492]),\n",
       " array([190.91265488]),\n",
       " array([190.91265486]),\n",
       " array([190.91265485]),\n",
       " array([190.91265484]),\n",
       " array([190.91265484]),\n",
       " array([190.91265483]),\n",
       " array([190.91265483]),\n",
       " array([190.91265483]),\n",
       " array([190.91265483]),\n",
       " array([190.91265483]),\n",
       " array([190.91265483]),\n",
       " array([190.91265483]),\n",
       " array([190.91265483]),\n",
       " array([190.91265483]),\n",
       " array([190.91265483]),\n",
       " array([190.91265483]),\n",
       " array([190.91265483]),\n",
       " array([190.91265483]),\n",
       " array([190.91265483]),\n",
       " array([190.91265483]),\n",
       " array([190.91265483]),\n",
       " array([190.91265483]),\n",
       " array([190.91265483]),\n",
       " array([190.91265483]),\n",
       " array([190.91265483]),\n",
       " array([190.91265483]),\n",
       " array([190.91265483]),\n",
       " array([190.91265483]),\n",
       " array([190.91265483]),\n",
       " array([190.91265483]),\n",
       " array([190.91265483]),\n",
       " array([190.91265483]),\n",
       " array([190.91265483]),\n",
       " array([190.91265483]),\n",
       " array([190.91265483]),\n",
       " array([190.91265483]),\n",
       " array([190.91265483]),\n",
       " array([190.91265483]),\n",
       " array([190.91265483]),\n",
       " array([190.91265483]),\n",
       " array([190.91265483]),\n",
       " array([190.91265483]),\n",
       " array([190.91265483])]"
      ]
     },
     "execution_count": 54,
     "metadata": {},
     "output_type": "execute_result"
    }
   ],
   "source": [
    "error_list"
   ]
  },
  {
   "cell_type": "code",
   "execution_count": 55,
   "metadata": {
    "id": "9lBxmtsu9OSc",
    "outputId": "1ea690a9-bee2-4ae3-9091-f384912a20c2"
   },
   "outputs": [
    {
     "data": {
      "image/png": "[encoded data removed]",
      "text/plain": [
       "<Figure size 576x396 with 1 Axes>"
      ]
     },
     "metadata": {},
     "output_type": "display_data"
    }
   ],
   "source": [
    "plt.plot(error_list)\n",
    "plt.show()"
   ]
  },
  {
   "cell_type": "code",
   "execution_count": 56,
   "metadata": {
    "id": "O9Ins6Gt9OSd",
    "outputId": "b778c6cf-624f-4d13-e6db-d2b5e5426f0e"
   },
   "outputs": [
    {
     "data": {
      "image/png": "[encoded data removed]",
      "text/plain": [
       "<Figure size 576x396 with 1 Axes>"
      ]
     },
     "metadata": {},
     "output_type": "display_data"
    }
   ],
   "source": [
    "y_=hypothesis(X,theta)\n",
    "plt.scatter(X,Y)\n",
    "plt.plot(X,y_,color=\"orange\",label=\"Prediction\")\n",
    "plt.legend()\n",
    "plt.show()"
   ]
  },
  {
   "cell_type": "markdown",
   "metadata": {
    "id": "g0fCeNNk9OSf"
   },
   "source": [
    "In the above plot,blue colour points are from dataset and orange colour plot shows the predicted linear line ."
   ]
  }
 ],
 "metadata": {
  "colab": {
   "name": "Hardwork Paysoff.ipynb",
   "provenance": []
  },
  "kernelspec": {
   "display_name": "Python 3",
   "language": "python",
   "name": "python3"
  },
  "language_info": {
   "codemirror_mode": {
    "name": "ipython",
    "version": 3
   },
   "file_extension": ".py",
   "mimetype": "text/x-python",
   "name": "python",
   "nbconvert_exporter": "python",
   "pygments_lexer": "ipython3",
   "version": "3.8.8"
  }
 },
 "nbformat": 4,
 "nbformat_minor": 1
}
